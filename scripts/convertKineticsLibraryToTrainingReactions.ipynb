{
 "cells": [
  {
   "cell_type": "markdown",
   "metadata": {},
   "source": [
    "# Convert Kinetics Library to Training Reactions Script\n",
    "\n",
    "Specify the kinetics library name below and run the script.  It automatically overwrites the training reactions files it needs to.  Then you should commit those files.\n",
    "\n",
    "This script only trains safely.  In other words, if a single match from an RMG family is found, a training reaction is created.  Sometimes, there are no matches from RMG reaction families, or multiple matches.  This indicates an error that requires manual fixing, and a printout is given in the script."
   ]
  },
  {
   "cell_type": "code",
   "execution_count": 1,
   "metadata": {
    "collapsed": true
   },
   "outputs": [],
   "source": [
    "libraryName = 'C3H3_recomb_part'\n",
    "compareKinetics = True"
   ]
  },
  {
   "cell_type": "code",
   "execution_count": 2,
   "metadata": {
    "collapsed": true
   },
   "outputs": [],
   "source": [
    "from rmgpy.data.rmg import RMGDatabase\n",
    "from rmgpy.chemkin import saveChemkinFile, saveSpeciesDictionary\n",
    "from rmgpy.rmg.model import Species\n",
    "from rmgpy import settings\n",
    "from IPython.display import display, HTML, Image\n",
    "import itertools\n",
    "from base64 import b64encode\n",
    "if compareKinetics:\n",
    "    import numpy as np\n",
    "    import matplotlib.pyplot as plt\n",
    "    from io import BytesIO"
   ]
  },
  {
   "cell_type": "markdown",
   "metadata": {},
   "source": [
    "\n",
    "## load lib_rxn"
   ]
  },
  {
   "cell_type": "code",
   "execution_count": 3,
   "metadata": {
    "scrolled": false
   },
   "outputs": [
    {
     "name": "stderr",
     "output_type": "stream",
     "text": [
      "/home/jimchu10/anaconda2/envs/rmg_env/lib/python2.7/site-packages/matplotlib/__init__.py:1405: UserWarning: \n",
      "This call to matplotlib.use() has no effect because the backend has already\n",
      "been chosen; matplotlib.use() must be called *before* pylab, matplotlib.pyplot,\n",
      "or matplotlib.backends is imported for the first time.\n",
      "\n",
      "  warnings.warn(_use_error_msg)\n"
     ]
    }
   ],
   "source": [
    "database = RMGDatabase()\n",
    "database.load(\n",
    "    path = settings['database.directory'], \n",
    "    thermoLibraries = ['FFCM1(-)','C4H6_carbene','BurkeH2O2','primaryThermoLibrary','DFT_QCI_thermo','CBS_QB3_1dHR'], # can add others if necessary\n",
    "    kineticsFamilies = 'default', \n",
    "    reactionLibraries = [libraryName], \n",
    "    kineticsDepositories = 'all'\n",
    ")\n",
    "# if we want accurate kinetics comparison, add existing training reactions and fill tree by averaging\n",
    "if compareKinetics:\n",
    "    for family in database.kinetics.families.values():\n",
    "        family.addKineticsRulesFromTrainingSet(thermoDatabase=database.thermo)\n",
    "        family.fillKineticsRulesByAveragingUp(verbose=True)"
   ]
  },
  {
   "cell_type": "markdown",
   "metadata": {},
   "source": [
    "## generate fam_rxn, spec replacement and get reactionDict"
   ]
  },
  {
   "cell_type": "code",
   "execution_count": 4,
   "metadata": {
    "scrolled": false
   },
   "outputs": [
    {
     "data": {
      "text/html": [
       "<table style=\"width:100%;table-layout:fixed;\"><tr><th colspan=\"2\" style=\"color:red\">Sad :( There are no matches.  This is a magic reaction or has chemistry that should be made into a new reaction family</th></tr><tr><td colspan=\"2\">IV <=> C</td></tr><tr><td colspan=\"2\"><img src=\"data:image/png;base64,iVBORw0KGgoAAAANSUhEUgAAAKgAAAApCAIAAAAuxfWeAAAABmJLR0QA/wD/AP+gvaeTAAALH0lEQVR4nO2beUwTzRvHt0DQKHK3BQooKDQiRqVgiQgJhweeIEIil0YUlYSiISBCBCLGgMArHoQoNh54KyqtF4EKCaKgBGPFgsqhIko5ylGgW8ru/v5YfhUBoS27XfB9P39tO32+8915ZndmpzskBEGA//j3oaFaGARBJSUlt2/fxtbN3wGCIGKxuKio6MmTJ0R7+SPKJV4mkxUWFoaHh5uamsbExPT19eFkayaCIEh3d/e9e/cCAwPpdHpaWtrAwADRpv4ISZFbvVQqLSsr43K5t27dMjY29vf3DwwMtLW1VYO/6Q8Mwz09PaWlpRwOp7Cw0NLSMiAgwNfX18rKimhrE4L8mYGBAQ6HExISYmBg4OLikpWV9f37d3kpDMOVlZWxsbFUKtXBwWECnb8SCILa29uvXbvm6+tLpVLXr1/PZrNbW1vRUhiG+/v7i4uL9+3bR6PRtm3bRqzbsYyT+P7+fjTfenp6aL5//PghL4UgqKys7PDhw4sWLbK2tmaxWM+fP1+xYsWFCxfUaJswIAhqa2u7du2aj48PmUxG8y0UCtFSGIbFYvHTp08jIiIWLly4dOnS+Pj4mzdvuru73759m1jno/iVeJFIdOXKlU2bNunq6np5eWVlZcnPB0GQoaGhsrIyFotlZmZmZ2eXlJRUVVUlL/306ROZTObz+Wr1rkaGhoa+fv169uxZDw8PCoWydetWNpvd0dGBlqL5fvz48a5du8zNzZlMZnp6+vv379FSqVRaVFTk4ODw8eNH4s5gNMOJFwgEenp6fn5+N27c6OnpkRfL802lUtF819bWjiuUm5trb28/MDCgDtfqBQTBJ0+emJqa7ty5s6CgQCwWo9+PzLepqSmTyczIyGhoaBir0NXVlZaWtnHjRolEol7vf+TXFS+VSuXHEolEProzGIykpKTPnz9PqrVjx47IyEhcbBINDMPy9oEgqKOjAx3dKRSKm5tbZmbmly9fJlZoaWkJDg5OSUnB36xC/DbGy2dz+vr66Oje0tKiuFZ3d7eVldXDhw+xNjktkM/mfHx8KBTKqNF9UoaGht6+fctkMouLi3H1qSDDiU9JSdm6dauurq63t/fFixfb29tVk6usrKRQKF+/fsXOIfG0t7fHx8d7eXlRqVR/f/9bt26JRCIVdAYGBvLz852cnJS6nHBiOPEkEikvL6+rq2vqiikpKW5ubkNDQ1OXmibU1taamZndv39/5OxHNdrb2+Pi4oKCgghvn+HET/xArxQQBHl6eh4/fhwrQcKpra2l0+mYSMEw3NTUtHnz5pycHKwERSLR5cuXq6qq5AeKBGKfeARBvn//bmJiUl5ejqEmgWCYeARBBgcHX7x4wWAwqqurMVErKSmZPXu2r68veuDv769IIC6JRxDk8ePHlpaWnZ2d2MoSAraJRxBELBaz2Ww3NzdMxtbe3t5Hjx59/PhRfqBI1PBaPYmk0KK9UkRGRra2tt69exdbWfVTV1fn4+NTV1eHoaZQKExOTtbW1j59+jSGsoqj4t+yipCRkVFfX89ms/GrYuZCJpMPHjzI5/Pv3btHjAP0wgewvtWjfPjwgUwmCwQCPMTVBua3ehQQBJ8+fcpgMOrr66ei09vbe/78+WXLls2ZM8fc3DwkJKS6urqhocHV1bWgoAD9TU9Pz9mzZ9evXy+PwvGKBwDAzs7u+PHjAQEBEokE14qUAgRBHo9HtAtg1qxZzs7O27dvj4qKAkFQNZHu7u7Tp0+npaXFxMR8/vy5oqLC09Pz4cOHkwbim3gAAMLDw+3t7Y8cOYJ3RYrz7du3yMhIV1fX4uJiYp3o6+uj66T//POPCuEwDDc3N1+9evXEiRNBQUFmZmY0Gi00NDQ5OXnSWNwTDwBATk4Oh8PhcDhqqEsRbG1ta2pqYmNjY2JiXFxcuFwugWZMTEyio6M5HM7z58+VjQVBkM/nAwCwceNG+ZckEolEIk0aq6VsZSqgr6+fl5e3du3a4OBgAwMDlXVsbGzCwsL+VNrW1qbsdbNmzZr8/PwtW7asXr06OTnZ09NTZW8qo6mpSafTo6KigoKCfHx89PT0FInS1dX18/MzMzPr7e3V0dHR0dEZ+xuhUBgcHKytrQ38fwLHZDLlpepIPAAAfX19WlpaRkZGCp7YuEwcq6mpqWyvAkEQhmESiWRkZGRoaKiysSkCw7BEItHW1jYyMpo3b54iITo6OlpaWpqamrq6un19fX19fWNzTyaT4+Li1qxZAwCAWCzOz88vLy//VYz2BQCfWT2KUCik0Wg8Hg+/KpRFKpWeP3/e3Nzcy8vrzZs3E/8Yp1k9ikwmq6iocHR0fPXqlbKxEATx+XwbG5uRr/fAMAzD8KSzetyveARBwsLCdu/e7eHhAQAAj8cTiUTKisydO3fDhg1YWRIIBOvWrWMwGBwOZ8WKFVjJqgCCID9//kxPTw8JCXF2dlY2XENDA31+S0hIgCDI3d0dgiAej9fY2BgaGjpxLO6Jz8zMbGtrO3r0KPqxoKCgtbVVWREdHR1vb29F5iyKYGNjw+Vyly9fjonaVBCJRLm5uSQS6cCBA6opGBgYREVFUSiU1NTUPXv2GBoaenh4HDx4cPJI9MIH8LnVV1VVUSiUpqYmPMTVBk63eolE8uDBAycnp5HvLqsNHB/n+vv7g4KCsrKyFixYgF8tMxQYhuvr69PT0xMTE2k0mvoN4Jj4iIgINze3HTt24FfFzKW1tTUjI8PT03PTpk2EGPhtjJfJZM3NzdbW1lPXvXPnzqtXr6qrq6cuNU1Ab86dnZ0WFhZTlOrt7X3w4MGPHz+ys7Mx8aYK6B0fPRAIBDQabcmSJYmJie/evVN5/GhoaCCTyW/fvsVkNCIcdIwHQfDZs2cWFhZMJvPkyZN1dXWqqUmlUh6P5+DgQOx/V+NM7mpqapKSkmxtbRcsWMBiscrKymAYVlxRJpM5OzufOXMGY6fEMXJyB4Lgy5cvDx06ZGNjY29vn5CQUFVVpXj7oEP72rVr8/LycPOrEMP51tDQOHXq1Ki3Y9EesHjxYgsLCxaLVVRUJJPJJlWMjY319vZWqq9Mc2pra01MTHJzc0e+HSvvAXQ6ffHixfHx8eXl5ZO2j1AoZLFYe/fuJbx9hhN/6dKlsLAwY2NjJyen1NTUUdsnampqUlNTXVxcjI2NQ0JCOBzO4ODguHIlJSUWFhYqv509Penu7s7Ozg4ICDA1NXV3dz937tzI7RMgCFZUVCQkJDg6Os6fPz8iIoLH443bPv39/devX3d1dVXt7Wxs+e3xfeINcgiCNDY2ZmVlubi4GBkZoT1g5P6btrY2Go02TTYMYM7EG+QQBJFKpe/evTt27Jijo6OlpSXaA+TtI5PJKisrHR0dX758SdAZ/Mb46zZjt8SOGumbmpoyMzNXrVplaGiYmJiIIAgMw5s3b05ISFCTceIYuyV21Eg/ODjI5/OTk5MZDIa1tfWZM2dgGP727dv27dtPnTpFrHk5ky/YoSM9nU6fP3/+2B7Q0tLy+vVrBEEyMzOdnJz+NAT8rYyc6y1ZsmRsD/jy5Qufz+/s7ExKSvLz85s+7aPESi3aA+zs7MzNzcPDwzkcjnwuw+fzqVRqY2MjPiZnACPnenQ6/dChQzweD20fiUTy6NGjlStXNjc3E23zF6os0X/48CElJWX58uUmJib79+/ncrl0Ov369euYm5uJoHO92NhYe3v7RYsWRUdHs9nsVatWcblcoq39xpRep29oaMjPz8/NzaXRaKWlpVitKf0dDA4OCgSCO3fuoP/EXL16lWhHv4H9Por/mBH8D7lj8amR1QT2AAAAAElFTkSuQmCC\"></td></tr><tr><th>Reactant SMILES</th><td>C=C1C=CC=C1</td></tr><tr><th>Product SMILES</th><td>[CH]C1C=CC=C1</td></tr></table>"
      ],
      "text/plain": [
       "<IPython.core.display.HTML object>"
      ]
     },
     "metadata": {},
     "output_type": "display_data"
    },
    {
     "data": {
      "text/html": [
       "<table style=\"width:100%;table-layout:fixed;\"><tr><th colspan=\"2\" style=\"color:red\">Sad :( There are no matches.  This is a magic reaction or has chemistry that should be made into a new reaction family</th></tr><tr><td colspan=\"2\">C <=> D</td></tr><tr><td colspan=\"2\"><img src=\"data:image/png;base64,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\"></td></tr><tr><th>Reactant SMILES</th><td>[CH]C1C=CC=C1</td></tr><tr><th>Product SMILES</th><td>C1=CC2C3C1C23</td></tr></table>"
      ],
      "text/plain": [
       "<IPython.core.display.HTML object>"
      ]
     },
     "metadata": {},
     "output_type": "display_data"
    },
    {
     "data": {
      "text/html": [
       "<table style=\"width:100%;table-layout:fixed;\"><tr><th colspan=\"2\" style=\"color:red\">Sad :( There are no matches.  This is a magic reaction or has chemistry that should be made into a new reaction family</th></tr><tr><td colspan=\"2\">D <=> VII</td></tr><tr><td colspan=\"2\"><img src=\"data:image/png;base64,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\"></td></tr><tr><th>Reactant SMILES</th><td>C1=CC2C3C1C23</td></tr><tr><th>Product SMILES</th><td>c1ccccc1</td></tr></table>"
      ],
      "text/plain": [
       "<IPython.core.display.HTML object>"
      ]
     },
     "metadata": {},
     "output_type": "display_data"
    }
   ],
   "source": [
    "reactionDict = {}\n",
    "kineticLibrary = database.kinetics.libraries[libraryName]\n",
    "\n",
    "# html table settings\n",
    "full = 12\n",
    "half = full / 2\n",
    "\n",
    "for index, entry in kineticLibrary.entries.iteritems():\n",
    "    lib_rxn = entry.item\n",
    "    lib_rxn.kinetics = entry.data \n",
    "    lib_rxn.index = entry.index\n",
    "    lib_rxn.kinetics.comment = entry.label # Assign the entry's label to the comment\n",
    "    # Let's make RMG try to generate this reaction from the families!\n",
    "    fam_rxn_list = []\n",
    "    \n",
    "    #get list of all possible resonance structures of reactant molecules\n",
    "    if len(lib_rxn.reactants) > 1:\n",
    "        rxt_resonances = [rxt.molecule for rxt in lib_rxn.reactants]\n",
    "        rxts_cross = list(itertools.product(*rxt_resonances))\n",
    "        rxts_cross = [list(cross) for cross in rxts_cross]\n",
    "    else:\n",
    "        rxts_cross = [[mol] for mol in lib_rxn.reactants[0].molecule] #should have only one reactant\n",
    "    \n",
    "    #use families to try find reactions\n",
    "    for rxts_mol in rxts_cross:\n",
    "        pdts_mol = [spc.molecule[0] for spc in lib_rxn.products] #do we also need to cross through products.mol\n",
    "        fam_rxn_list.extend(database.kinetics.generateReactionsFromFamilies(\n",
    "                        reactants=rxts_mol, products=pdts_mol))\n",
    "\n",
    "    if len(fam_rxn_list) == 1:\n",
    "        fam_rxn = fam_rxn_list[0]\n",
    "\n",
    "        # danger: the fam_rxn may have switched the reactants with products\n",
    "        # fam_rxn is survived from def filterReactions\n",
    "        # so it's matched with lib_rxn only we have to \n",
    "        # determine the direction\n",
    "        lib_reactants = [r for r in lib_rxn.reactants]        \n",
    "        fam_reactants = [r for r in fam_rxn.reactants]\n",
    "        for lib_reactant in lib_reactants:\n",
    "            for fam_reactant in fam_reactants:\n",
    "                if lib_reactant.isIsomorphic(fam_reactant):\n",
    "                    fam_reactants.remove(fam_reactant)\n",
    "                    break\n",
    "\n",
    "        lib_products = [r for r in lib_rxn.products]        \n",
    "        fam_products = [r for r in fam_rxn.products]\n",
    "        for lib_product in lib_products:\n",
    "            for fam_product in fam_products:\n",
    "                if lib_product.isIsomorphic(fam_product):\n",
    "                    fam_products.remove(fam_product)\n",
    "                    break\n",
    "\n",
    "        forward = not (len(fam_reactants) != 0 or len(fam_products) != 0)\n",
    "        # find the labeled atoms using family and reactants & products from fam_rxn\n",
    "        family_database = database.kinetics.families[fam_rxn.family]\n",
    "        family_database.addAtomLabelsForReaction(fam_rxn)\n",
    "        # species replacement so that labeledAtoms is retored\n",
    "        if forward:\n",
    "            lib_rxn.reactants = fam_rxn.reactants\n",
    "            lib_rxn.products = fam_rxn.products\n",
    "        else:\n",
    "            lib_rxn.reactants = fam_rxn.products\n",
    "            lib_rxn.products = fam_rxn.reactants\n",
    "        if fam_rxn.family in reactionDict:\n",
    "            reactionDict[fam_rxn.family].append(lib_rxn)\n",
    "        else:\n",
    "            reactionDict[fam_rxn.family] = [lib_rxn]\n",
    "            \n",
    "        template = database.kinetics.families[fam_rxn.family].getReactionTemplate(fam_rxn)\n",
    "        \n",
    "        templateSize = len(template)\n",
    "        # html table currently uses a 12 column setup, so templates with 5 groups will break the table\n",
    "        assert templateSize < 5\n",
    "        \n",
    "        if compareKinetics:\n",
    "            # check what the current kinetics for this template are\n",
    "            newKinetics = lib_rxn.kinetics\n",
    "            oldKinetics = database.kinetics.families[fam_rxn.family].getKineticsForTemplate(template, degeneracy=fam_rxn.degeneracy)[0]\n",
    "            # evaluate kinetics\n",
    "            tlistinv = np.linspace(1000/1500, 1000/300, num=10)\n",
    "            tlist = 1000 * np.reciprocal(tlistinv)\n",
    "            newklist = np.log10(np.array([newKinetics.getRateCoefficient(t) for t in tlist]))\n",
    "            oldklist = np.log10(np.array([oldKinetics.getRateCoefficient(t) for t in tlist]))\n",
    "            # create plot\n",
    "            plt.cla()\n",
    "            plt.plot(tlistinv, newklist, label='New')\n",
    "            plt.plot(tlistinv, oldklist, label='Current')\n",
    "            plt.legend()\n",
    "            plt.xlabel('1000/T')\n",
    "            plt.ylabel('log(k)')\n",
    "            fig = BytesIO()\n",
    "            plt.savefig(fig, format='png')\n",
    "            fig.seek(0)\n",
    "            figdata = b64encode(fig.getvalue())\n",
    "            fig.close()\n",
    "        \n",
    "        # format output using html\n",
    "        html = ['<table style=\"width:100%;table-layout:fixed;\"><tr>']\n",
    "        html += ['<th colspan=\"{0}\" style=\"color:green\">One RMG match for this reaction</th>'.format(full)]\n",
    "        html += ['</tr><tr>']\n",
    "        html += ['<td colspan=\"{0}\"><img src=\"data:image/png;base64,{1}\"></td>'.format(full, b64encode(fam_rxn._repr_png_()))]\n",
    "        html += ['</tr><tr>']\n",
    "        html += ['<th colspan=\"{0}\">Reactant SMILES</th>'.format(half)]\n",
    "        html += ['<td colspan=\"{0}\">{1}</td>'.format(half, ' + '.join([reactant.molecule[0].toSMILES() for reactant in lib_rxn.reactants]))]\n",
    "        html += ['</tr><tr>']\n",
    "        html += ['<th colspan=\"{0}\">Product SMILES</th>'.format(half)]\n",
    "        html += ['<td colspan=\"{0}\">{1}</td>'.format(half, ' + '.join([product.molecule[0].toSMILES() for product in lib_rxn.products]))]\n",
    "        html += ['</tr><tr>']\n",
    "        html += ['<th colspan=\"{0}\">Matched Family</th>'.format(half)]\n",
    "        html += ['<td colspan=\"{0}\">{1}</td>'.format(half, fam_rxn.family)]\n",
    "        html += ['</tr><tr>']\n",
    "        html += ['<th colspan=\"{0}\">Matched Template</th>'.format(half)]\n",
    "        html += ['<td colspan=\"{0}\">{1}</td>'.format(half, [entry.label for entry in template])]\n",
    "        html += ['</tr><tr>']\n",
    "        for entry in template:\n",
    "            html += ['<td colspan=\"{0}\">{1}</td>'.format(full/templateSize, entry.label)]\n",
    "        html += ['</tr><tr>']\n",
    "        for entry in template:\n",
    "            html += ['<td colspan=\"{0}\"><img src=\"data:image/png;base64,{1}\"></td>'.format(full/templateSize, b64encode(entry.item._repr_png_()))]\n",
    "        if compareKinetics:\n",
    "            if not forward:\n",
    "                html += ['</tr><tr>']\n",
    "                html += ['<th colspan=\"{0}\" style=\"color:red;text-align:center\">Note: Training reaction written in opposite direction from reaction family.'.format(full)]\n",
    "            html += ['</tr><tr>']\n",
    "            html += ['<td colspan=\"{0}\"><strong>New Kinetics:</strong><br>{1}<br><br><strong>Current Kinetics</strong><br>{2}</td>'.format(half, newKinetics, oldKinetics)]\n",
    "            html += ['<td colspan=\"{0}\"><img src=\"data:image/png;base64,{1}\"></td>'.format(half, figdata)]\n",
    "        html += ['</tr></table>']\n",
    "        \n",
    "        display(HTML(''.join(html)))\n",
    "    elif len(fam_rxn_list) == 0:\n",
    "        html = ['<table style=\"width:100%;table-layout:fixed;\"><tr>']\n",
    "        html += ['<th colspan=\"2\" style=\"color:red\">Sad :( There are no matches.  This is a magic reaction or has chemistry that should be made into a new reaction family</th>']\n",
    "        html += ['</tr><tr>']\n",
    "        html += ['<td colspan=\"2\">{0}</td>'.format(str(lib_rxn))]\n",
    "        html += ['</tr><tr>']\n",
    "        html += ['<td colspan=\"2\"><img src=\"data:image/png;base64,{0}\"></td>'.format(b64encode(lib_rxn._repr_png_()))]\n",
    "        html += ['</tr><tr>']\n",
    "        html += ['<th>Reactant SMILES</th>']\n",
    "        html += ['<td>{0}</td>'.format(' + '.join([reactant.molecule[0].toSMILES() for reactant in lib_rxn.reactants]))]\n",
    "        html += ['</tr><tr>']\n",
    "        html += ['<th>Product SMILES</th>']\n",
    "        html += ['<td>{0}</td>'.format(' + '.join([product.molecule[0].toSMILES() for product in lib_rxn.products]))]\n",
    "        html += ['</tr></table>']\n",
    "        \n",
    "        display(HTML(''.join(html)))\n",
    "    else:\n",
    "        if compareKinetics: oldKinetics = []\n",
    "        lib_reactant = lib_rxn.reactants[0]\n",
    "        forward = True\n",
    "        for i, rxn in enumerate(fam_rxn_list):\n",
    "            # determine direction of family reaction\n",
    "            fam_reactants = list(rxn.reactants)\n",
    "            for fam_reactant in fam_reactants:\n",
    "                if lib_reactant.isIsomorphic(fam_reactant):\n",
    "                    break\n",
    "            else:\n",
    "                forward = False\n",
    "            \n",
    "            # find the labeled atoms using family and reactants & products from fam_rxn\n",
    "            family_database = database.kinetics.families[rxn.family]\n",
    "            family_database.addAtomLabelsForReaction(rxn)\n",
    "            template = database.kinetics.families[rxn.family].getReactionTemplate(rxn)\n",
    "            templateSize = len(template)\n",
    "            \n",
    "            if compareKinetics:\n",
    "                oldKinetics.append(database.kinetics.families[rxn.family].getKineticsForTemplate(template, degeneracy=rxn.degeneracy)[0])\n",
    "            \n",
    "            if i == 0:        \n",
    "                html = ['<table style=\"width:100%;table-layout:fixed;\"><tr>']\n",
    "                html += ['<th colspan=\"{0}\" style=\"color:blue\">There are multiple RMG matches for this reaction. You have to manually create this training reaction.</th>'.format(full)]\n",
    "                html += ['</tr><tr>']\n",
    "                html += ['<td colspan=\"{0}\">{1}</td>'.format(full, str(lib_rxn))]\n",
    "                html += ['</tr><tr>']\n",
    "                html += ['<th colspan=\"{0}\">Reactant SMILES</th>'.format(half)]\n",
    "                html += ['<td colspan=\"{0}\">{1}</td>'.format(half, ' + '.join([reactant.molecule[0].toSMILES() for reactant in lib_rxn.reactants]))]\n",
    "                html += ['</tr><tr>']\n",
    "                html += ['<th colspan=\"{0}\">Product SMILES</th>'.format(half)]\n",
    "                html += ['<td colspan=\"{0}\">{1}</td>'.format(half, ' + '.join([product.molecule[0].toSMILES() for product in lib_rxn.products]))]\n",
    "                html += ['</tr><tr>']\n",
    "            \n",
    "            html += ['<th colspan=\"{0}\">Match #{1} - For the following resonance form of the reaction:</th>'.format(full, i + 1)]\n",
    "            html += ['</tr><tr>']\n",
    "            html += ['<td colspan=\"{0}\"><img src=\"data:image/png;base64,{1}\"></td>'.format(full, b64encode(rxn._repr_png_()))]\n",
    "            html += ['</tr><tr>']\n",
    "            html += ['<th colspan=\"{0}\">Matched Family</th>'.format(half)]\n",
    "            html += ['<td colspan=\"{0}\">{1}</td>'.format(half, rxn.family)]\n",
    "            html += ['</tr><tr>']\n",
    "            html += ['<th colspan=\"{0}\">Matched Template</th>'.format(half)]\n",
    "            html += ['<td colspan=\"{0}\">{1}</td>'.format(half, [entry.label for entry in template])]\n",
    "            html += ['</tr><tr>']\n",
    "            for entry in template:\n",
    "                html += ['<td colspan=\"{0}\">{1}</td>'.format(full/templateSize, entry.label)]\n",
    "            html += ['</tr><tr>']\n",
    "            for entry in template:\n",
    "                html += ['<td colspan=\"{0}\"><img src=\"data:image/png;base64,{1}\"></td>'.format(full/templateSize, b64encode(entry.item._repr_png_()))]\n",
    "            html += ['</tr><tr>']\n",
    "        \n",
    "        if compareKinetics:\n",
    "            newKinetics = lib_rxn.kinetics\n",
    "            # evaluate kinetics\n",
    "            tlistinv = np.linspace(1000/1500, 1000/300, num=10)\n",
    "            tlist = 1000 * np.reciprocal(tlistinv)\n",
    "            newklist = np.log10(np.array([newKinetics.getRateCoefficient(t) for t in tlist]))\n",
    "            oldklist = []\n",
    "            for kinetics in oldKinetics:\n",
    "                oldklist.append(np.log10(np.array([kinetics.getRateCoefficient(t) for t in tlist])))\n",
    "            # create plot\n",
    "            plt.cla()\n",
    "            plt.plot(tlistinv, newklist, label='New')\n",
    "            for i, k in enumerate(oldklist):\n",
    "                plt.plot(tlistinv, k, label='Match #{0}'.format(i + 1))\n",
    "            plt.legend()\n",
    "            plt.xlabel('1000/T')\n",
    "            plt.ylabel('log(k)')\n",
    "            fig = BytesIO()\n",
    "            plt.savefig(fig, format='png')\n",
    "            fig.seek(0)\n",
    "            figdata = b64encode(fig.getvalue())\n",
    "            fig.close()\n",
    "            \n",
    "            if not forward:\n",
    "                html += ['</tr><tr>']\n",
    "                html += ['<th colspan=\"{0}\" style=\"color:red;text-align:center\">Note: Training reaction written in opposite direction from reaction family.'.format(full)]\n",
    "            html += ['</tr><tr><td colspan=\"{0}\">'.format(half)]\n",
    "            html += ['<strong>New Kinetics:</strong><br>{0}'.format(newKinetics)]\n",
    "            for i, kinetics in enumerate(oldKinetics):\n",
    "                html += ['<br><br><strong>Match #{0} Kinetics:</strong><br>{1}'.format(i + 1, kinetics)]\n",
    "            html += ['</td><td colspan=\"{0}\"><img src=\"data:image/png;base64,{1}\"></td>'.format(half, figdata)]\n",
    "        \n",
    "        html += ['</tr></table>']\n",
    "        \n",
    "        display(HTML(''.join(html)))\n"
   ]
  },
  {
   "cell_type": "code",
   "execution_count": 6,
   "metadata": {},
   "outputs": [
    {
     "name": "stdout",
     "output_type": "stream",
     "text": [
      "Adding training reactions for family: R_Recombination\n",
      "reactions.py previously has 34 rxns. Now adding 3 new rxn(s).\n",
      "=================\n"
     ]
    }
   ],
   "source": [
    "for familyName in reactionDict:\n",
    "    print 'Adding training reactions for family: ' + familyName\n",
    "    kineticFamily = database.kinetics.families[familyName]\n",
    "    trainingDatabase = None\n",
    "    for depository in kineticFamily.depositories:\n",
    "            if depository.label.endswith('training'):\n",
    "                trainingDatabase = depository\n",
    "                break\n",
    "    reactions = reactionDict[familyName]\n",
    "    print 'reactions.py previously has {} rxns. Now adding {} new rxn(s).'.format(len(trainingDatabase.entries.values()), len(reactions))\n",
    "    print '================='\n",
    "    kineticFamily.saveTrainingReactions(reactions, shortDesc='Training reaction from kinetics library: {0}'.format(libraryName))"
   ]
  },
  {
   "cell_type": "markdown",
   "metadata": {},
   "source": [
    "# How saveTrainingReaction works\n",
    "\n",
    "This part of the script is commented and should not be run.  It serves only to demonstrate how the code for saving the training reactions works.\n",
    "\n",
    "## get speciesDict\n",
    "\n",
    "### load existing species as an intial speciesDict"
   ]
  },
  {
   "cell_type": "code",
   "execution_count": null,
   "metadata": {
    "collapsed": true
   },
   "outputs": [],
   "source": [
    "# import os\n",
    "# from rmgpy.data.base import Database\n",
    "\n",
    "# training_path = os.path.join(settings['database.directory'], \\\n",
    "#                              'kinetics', 'families', 'R_Addition_MultipleBond', 'training')\n",
    "\n",
    "# dictionary_file = os.path.join(training_path, 'dictionary.txt')\n",
    "\n",
    "# # Load the existing set of the species of the training reactions\n",
    "# speciesDict = Database().getSpecies(dictionary_file)"
   ]
  },
  {
   "cell_type": "markdown",
   "metadata": {},
   "source": [
    "### for one family check uniqueness of each species in the lib_rxns"
   ]
  },
  {
   "cell_type": "code",
   "execution_count": null,
   "metadata": {
    "collapsed": true,
    "scrolled": false
   },
   "outputs": [],
   "source": [
    "# familyName = 'R_Addition_MultipleBond'\n",
    "# print 'Adding training reactions for family: ' + familyName\n",
    "# kineticFamily = database.kinetics.families[familyName]\n",
    "# reactions = reactionDict[familyName]\n",
    "\n",
    "# for rxn in reactions:\n",
    "#     for spec in (rxn.reactants + rxn.products):\n",
    "#         for ex_spec_label in speciesDict:\n",
    "#             ex_spec = speciesDict[ex_spec_label]\n",
    "#             if ex_spec.molecule[0].getFormula() != spec.molecule[0].getFormula():\n",
    "#                 continue\n",
    "#             else:\n",
    "#                 spec_labeledAtoms = spec.molecule[0].getLabeledAtoms()\n",
    "#                 ex_spec_labeledAtoms = ex_spec.molecule[0].getLabeledAtoms()\n",
    "#                 initialMap = {}\n",
    "#                 try:\n",
    "#                     for atomLabel in spec_labeledAtoms:\n",
    "#                         initialMap[spec_labeledAtoms[atomLabel]] = ex_spec_labeledAtoms[atomLabel]\n",
    "#                 except KeyError:\n",
    "#                     # atom labels did not match, therefore not a match\n",
    "#                     continue\n",
    "#                 if spec.molecule[0].isIsomorphic(ex_spec.molecule[0],initialMap):\n",
    "#                     spec.label = ex_spec.label\n",
    "#                     break\n",
    "#         else:# no isomorphic existing species found\n",
    "#             spec_formula = spec.molecule[0].getFormula()\n",
    "#             if spec_formula not in speciesDict:\n",
    "#                 spec.label = spec_formula\n",
    "#             else:\n",
    "#                 index = 2\n",
    "#                 while (spec_formula + '-{}'.format(index)) in speciesDict:\n",
    "#                     index += 1\n",
    "#                 spec.label = spec_formula + '-{}'.format(index)\n",
    "#             speciesDict[spec.label] = spec"
   ]
  },
  {
   "cell_type": "markdown",
   "metadata": {},
   "source": [
    "## save to files\n",
    "\n",
    "Save reactionDict to reactions.py and speciesDict to dictionary.txt"
   ]
  },
  {
   "cell_type": "code",
   "execution_count": null,
   "metadata": {
    "collapsed": true
   },
   "outputs": [],
   "source": [
    "# # try to append \n",
    "# training_file = open(os.path.join(settings['database.directory'], 'kinetics', 'families', \\\n",
    "#             kineticFamily.label, 'training', 'reactions_test.py'), 'a')\n",
    "\n",
    "# training_file.write(\"\\n\\n\")"
   ]
  },
  {
   "cell_type": "code",
   "execution_count": null,
   "metadata": {
    "collapsed": true
   },
   "outputs": [],
   "source": [
    "# # find the largest reaction index\n",
    "# for depository in kineticFamily.depositories:\n",
    "#     if depository.label.endswith('training'):\n",
    "#         break\n",
    "# else:\n",
    "#     logging.info('Could not find training depository in family {0}.'.format(kineticFamily.label))\n",
    "#     logging.info('Starting a new one')\n",
    "#     depository = KineticsDepository()\n",
    "#     kineticFamily.depositories.append(depository)\n",
    "\n",
    "# trainingDatabase = depository\n",
    "# indices = [entry.index for entry in trainingDatabase.entries.values()]\n",
    "# if indices:\n",
    "#     maxIndex = max(indices)\n",
    "# else:\n",
    "#     maxIndex = 0"
   ]
  },
  {
   "cell_type": "code",
   "execution_count": null,
   "metadata": {
    "collapsed": true
   },
   "outputs": [],
   "source": [
    "# # save reactions.py\n",
    "# from rmgpy.data.base import Entry\n",
    "# for i, reaction in enumerate(reactions):    \n",
    "#     entry = Entry(\n",
    "#         index = maxIndex+i+1,\n",
    "#         label = str(reaction),\n",
    "#         item = reaction,\n",
    "#         data = reaction.kinetics,\n",
    "#         reference = None,\n",
    "#         referenceType = '',\n",
    "#         shortDesc = unicode(''),\n",
    "#         longDesc = unicode(''),\n",
    "#         rank = 3,\n",
    "#         )\n",
    "#     print reaction\n",
    "#     kineticFamily.saveEntry(training_file, entry)\n",
    "\n",
    "# training_file.close()"
   ]
  },
  {
   "cell_type": "code",
   "execution_count": null,
   "metadata": {
    "collapsed": true
   },
   "outputs": [],
   "source": [
    "# # save dictionary.txt\n",
    "# directory_test_file = os.path.join(training_path, 'directory_test.txt')\n",
    "# with open(directory_test_file, 'w') as f:\n",
    "#     for label in speciesDict.keys():\n",
    "#         f.write(speciesDict[label].molecule[0].toAdjacencyList(label=label, removeH=False))\n",
    "#         f.write('\\n')\n",
    "# f.close()"
   ]
  }
 ],
 "metadata": {
  "anaconda-cloud": {},
  "kernelspec": {
   "display_name": "Python 2",
   "language": "python",
   "name": "python2"
  },
  "language_info": {
   "codemirror_mode": {
    "name": "ipython",
    "version": 2
   },
   "file_extension": ".py",
   "mimetype": "text/x-python",
   "name": "python",
   "nbconvert_exporter": "python",
   "pygments_lexer": "ipython2",
   "version": "2.7.13"
  }
 },
 "nbformat": 4,
 "nbformat_minor": 1
}
